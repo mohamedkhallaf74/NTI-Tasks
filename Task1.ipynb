{
 "cells": [
  {
   "cell_type": "code",
   "execution_count": 43,
   "id": "aeb1187d",
   "metadata": {},
   "outputs": [],
   "source": [
    "import math"
   ]
  },
  {
   "cell_type": "code",
   "execution_count": 44,
   "id": "0539e342",
   "metadata": {},
   "outputs": [],
   "source": [
    "def transport_cipher(plaintext, key):\n",
    "    \n",
    "    ciphertext = [''] * key  # Initialize ciphertext as a list of empty strings with length equal to the key\n",
    "    \n",
    "    for column in range(key):  # Iterate through each column of the transposition matrix\n",
    "        pointer = column  # Start the pointer at the current column index\n",
    "        \n",
    "        while pointer < len(plaintext):  # Iterate through the plaintext, moving by the key\n",
    "            ciphertext[column] += plaintext[pointer]  # Add the character at the pointer to the current column\n",
    "            pointer += key  # Move the pointer to the next character in the column\n",
    "            \n",
    "    return ''.join(ciphertext)  # Concatenate the columns to form the ciphertext"
   ]
  },
  {
   "cell_type": "code",
   "execution_count": 45,
   "id": "17e37bf2",
   "metadata": {},
   "outputs": [],
   "source": [
    "def decryptMessage(key, message):\n",
    "    numOfColumns = math.ceil(len(message) / key)\n",
    "\n",
    "    numOfRows = key\n",
    "\n",
    "    numOfShadedBoxes = (numOfColumns * numOfRows) - len(message)\n",
    "\n",
    "    plaintext = [''] * numOfColumns\n",
    "\n",
    "    col = 0\n",
    "    row = 0\n",
    "    for symbol in message:\n",
    "        plaintext[col] += symbol\n",
    "\n",
    "        col += 1 \n",
    "\n",
    "\n",
    "        if (col == numOfColumns) or (col == numOfColumns - 1 and row >= numOfRows - numOfShadedBoxes):\n",
    "\n",
    "            col = 0\n",
    "            row += 1\n",
    "\n",
    "    return ''.join(plaintext)\n"
   ]
  },
  {
   "cell_type": "code",
   "execution_count": 47,
   "id": "49f2bf76",
   "metadata": {},
   "outputs": [],
   "source": [
    "# Example \n",
    "plaintext = 'Common sense is not so common.'\n",
    "key = 8"
   ]
  },
  {
   "cell_type": "code",
   "execution_count": 48,
   "id": "3a6ecff4",
   "metadata": {},
   "outputs": [
    {
     "name": "stdout",
     "output_type": "stream",
     "text": [
      "Encrypted: Cenoonommstmme oo snnio. s s c\n"
     ]
    }
   ],
   "source": [
    "# Encryption\n",
    "message = transport_cipher(plaintext, key)\n",
    "print(\"Encrypted:\", message)"
   ]
  },
  {
   "cell_type": "code",
   "execution_count": 49,
   "id": "78988713",
   "metadata": {},
   "outputs": [
    {
     "name": "stdout",
     "output_type": "stream",
     "text": [
      "Decrypted: Common sense is not so common.\n"
     ]
    }
   ],
   "source": [
    "# Decryption\n",
    "decrypted_text = decryptMessage(key, message)\n",
    "print(\"Decrypted:\", decrypted_text)"
   ]
  },
  {
   "cell_type": "code",
   "execution_count": null,
   "id": "68c38ff0",
   "metadata": {},
   "outputs": [],
   "source": []
  }
 ],
 "metadata": {
  "kernelspec": {
   "display_name": "Python 3 (ipykernel)",
   "language": "python",
   "name": "python3"
  },
  "language_info": {
   "codemirror_mode": {
    "name": "ipython",
    "version": 3
   },
   "file_extension": ".py",
   "mimetype": "text/x-python",
   "name": "python",
   "nbconvert_exporter": "python",
   "pygments_lexer": "ipython3",
   "version": "3.10.9"
  }
 },
 "nbformat": 4,
 "nbformat_minor": 5
}
